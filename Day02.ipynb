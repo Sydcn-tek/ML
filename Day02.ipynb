{
 "cells": [
  {
   "cell_type": "code",
   "execution_count": 10,
   "metadata": {},
   "outputs": [],
   "source": [
    "import numpy as np\n",
    "path = \"C:/Users/lenovo/Desktop/mark1/Classic_machine_learning-master/data_set/datingTestset.txt\""
   ]
  },
  {
   "cell_type": "code",
   "execution_count": 12,
   "metadata": {},
   "outputs": [],
   "source": [
    "data = []\n",
    "labels = []\n",
    "open_file = open(path,mode='r',encoding='utf-8')\n",
    "STR = open_file.read()\n",
    "lines = STR.split('\\n')\n",
    "for line in lines[0:200]:\n",
    "    f_l = line.split('\\t')\n",
    "    x1,x2,x3,label = float(f_l[0]),float(f_l[1]),float(f_l[2]),(f_l[3])\n",
    "    data.append([x1,x2,x3])\n",
    "    labels.append(label)\n",
    "    \n",
    "data = np.array(data)\n",
    "labels = np.array(labels)"
   ]
  },
  {
   "cell_type": "code",
   "execution_count": null,
   "metadata": {},
   "outputs": [],
   "source": []
  }
 ],
 "metadata": {
  "kernelspec": {
   "display_name": "Python 3",
   "language": "python",
   "name": "python3"
  },
  "language_info": {
   "codemirror_mode": {
    "name": "ipython",
    "version": 3
   },
   "file_extension": ".py",
   "mimetype": "text/x-python",
   "name": "python",
   "nbconvert_exporter": "python",
   "pygments_lexer": "ipython3",
   "version": "3.7.3"
  }
 },
 "nbformat": 4,
 "nbformat_minor": 2
}

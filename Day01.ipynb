{
 "cells": [
  {
   "cell_type": "code",
   "execution_count": 2,
   "metadata": {},
   "outputs": [],
   "source": [
    "import numpy as np"
   ]
  },
  {
   "cell_type": "code",
   "execution_count": 6,
   "metadata": {},
   "outputs": [
    {
     "name": "stdout",
     "output_type": "stream",
     "text": [
      "[100  40]\n"
     ]
    }
   ],
   "source": [
    "a = np.array([100,40])\n",
    "print(a)"
   ]
  },
  {
   "cell_type": "code",
   "execution_count": 4,
   "metadata": {},
   "outputs": [
    {
     "data": {
      "text/plain": [
       "numpy.ndarray"
      ]
     },
     "execution_count": 4,
     "metadata": {},
     "output_type": "execute_result"
    }
   ],
   "source": [
    "type(a)"
   ]
  },
  {
   "cell_type": "code",
   "execution_count": 7,
   "metadata": {},
   "outputs": [
    {
     "data": {
      "text/plain": [
       "(2,)"
      ]
     },
     "execution_count": 7,
     "metadata": {},
     "output_type": "execute_result"
    }
   ],
   "source": [
    "a.shape"
   ]
  },
  {
   "cell_type": "code",
   "execution_count": 11,
   "metadata": {},
   "outputs": [
    {
     "name": "stdout",
     "output_type": "stream",
     "text": [
      "[[  3 104]\n",
      " [  2 100]\n",
      " [  1  81]\n",
      " [ 99   5]\n",
      " [ 98   2]]\n",
      "(5, 2)\n"
     ]
    }
   ],
   "source": [
    "data = np.array([[3,104],\n",
    "                 [2,100],\n",
    "                 [1,81],\n",
    "                 [99,5],\n",
    "                 [98,2]])\n",
    "print(data)\n",
    "print(data.shape)"
   ]
  },
  {
   "cell_type": "code",
   "execution_count": 12,
   "metadata": {},
   "outputs": [
    {
     "name": "stdout",
     "output_type": "stream",
     "text": [
      "[[18 90]]\n"
     ]
    }
   ],
   "source": [
    "dianying = np.array([[18,90]])\n",
    "print(dianying)"
   ]
  },
  {
   "cell_type": "code",
   "execution_count": 13,
   "metadata": {},
   "outputs": [
    {
     "name": "stdout",
     "output_type": "stream",
     "text": [
      "[[-15  14]\n",
      " [-16  10]\n",
      " [-17  -9]\n",
      " [ 81 -85]\n",
      " [ 80 -88]]\n"
     ]
    }
   ],
   "source": [
    "distance = data - dianying\n",
    "print(distance)"
   ]
  },
  {
   "cell_type": "code",
   "execution_count": 14,
   "metadata": {},
   "outputs": [
    {
     "name": "stdout",
     "output_type": "stream",
     "text": [
      "[[ 225  196]\n",
      " [ 256  100]\n",
      " [ 289   81]\n",
      " [6561 7225]\n",
      " [6400 7744]]\n"
     ]
    }
   ],
   "source": [
    "square = np.power(distance,2)\n",
    "print(square)"
   ]
  },
  {
   "cell_type": "code",
   "execution_count": 18,
   "metadata": {},
   "outputs": [
    {
     "name": "stdout",
     "output_type": "stream",
     "text": [
      "[  421   356   370 13786 14144]\n"
     ]
    }
   ],
   "source": [
    "sum_= np.sum(square,axis=1)\n",
    "print(sum_)"
   ]
  },
  {
   "cell_type": "code",
   "execution_count": 19,
   "metadata": {},
   "outputs": [
    {
     "name": "stdout",
     "output_type": "stream",
     "text": [
      "[ 20.51828453  18.86796226  19.23538406 117.41379817 118.92854998]\n"
     ]
    }
   ],
   "source": [
    "sqrt = np.sqrt(sum_)\n",
    "print(sqrt)"
   ]
  },
  {
   "cell_type": "code",
   "execution_count": 33,
   "metadata": {},
   "outputs": [
    {
     "name": "stdout",
     "output_type": "stream",
     "text": [
      "[ 18.86796226  19.23538406  20.51828453 117.41379817 118.92854998]\n"
     ]
    }
   ],
   "source": [
    "sort_ = np.sort(sqrt)\n",
    "print(sort_)"
   ]
  },
  {
   "cell_type": "code",
   "execution_count": 26,
   "metadata": {},
   "outputs": [
    {
     "data": {
      "text/plain": [
       "array([18.86796226, 19.23538406, 20.51828453])"
      ]
     },
     "execution_count": 26,
     "metadata": {},
     "output_type": "execute_result"
    }
   ],
   "source": [
    "sort_[0:3]"
   ]
  },
  {
   "cell_type": "code",
   "execution_count": 29,
   "metadata": {},
   "outputs": [],
   "source": [
    "def Joker(name):\n",
    "    print('hello',name)\n",
    "    return 'OK'"
   ]
  },
  {
   "cell_type": "code",
   "execution_count": 30,
   "metadata": {},
   "outputs": [
    {
     "name": "stdout",
     "output_type": "stream",
     "text": [
      "hello Good\n"
     ]
    },
    {
     "data": {
      "text/plain": [
       "'OK'"
      ]
     },
     "execution_count": 30,
     "metadata": {},
     "output_type": "execute_result"
    }
   ],
   "source": [
    "Joker('Good')"
   ]
  },
  {
   "cell_type": "code",
   "execution_count": 38,
   "metadata": {},
   "outputs": [],
   "source": [
    "def KNN(test_samples,K): \n",
    "    #1.Loading train data set.\n",
    "    data = np.array([[3,104],\n",
    "            [2,100],\n",
    "            [1,81],\n",
    "            [101.10],\n",
    "            [99,5],\n",
    "            [98,2]])\n",
    "    #2.distance\n",
    "    dianying = np.array([[18,90]])\n",
    "    distance = data - dianying\n",
    "    square = np.power(distance,2)\n",
    "    sum_= np.sum(square,axis=1)\n",
    "    sqrt = np.sqrt(sum_)\n",
    "    #3.sort.\n",
    "    sort_ = np.sort(sqrt)\n",
    "    #4.K\n",
    "    sort_[0,test_samples]\n",
    "    #return classes.\n",
    "    return 'test_samples'"
   ]
  },
  {
   "cell_type": "code",
   "execution_count": 39,
   "metadata": {},
   "outputs": [
    {
     "ename": "TypeError",
     "evalue": "KNN() missing 1 required positional argument: 'K'",
     "output_type": "error",
     "traceback": [
      "\u001b[1;31m---------------------------------------------------------------------------\u001b[0m",
      "\u001b[1;31mTypeError\u001b[0m                                 Traceback (most recent call last)",
      "\u001b[1;32m<ipython-input-39-30620b68c5cc>\u001b[0m in \u001b[0;36m<module>\u001b[1;34m\u001b[0m\n\u001b[1;32m----> 1\u001b[1;33m \u001b[0mKNN\u001b[0m\u001b[1;33m(\u001b[0m\u001b[1;36m3\u001b[0m\u001b[1;33m)\u001b[0m\u001b[1;33m\u001b[0m\u001b[1;33m\u001b[0m\u001b[0m\n\u001b[0m",
      "\u001b[1;31mTypeError\u001b[0m: KNN() missing 1 required positional argument: 'K'"
     ]
    }
   ],
   "source": [
    "KNN(3)"
   ]
  },
  {
   "cell_type": "code",
   "execution_count": null,
   "metadata": {},
   "outputs": [],
   "source": []
  }
 ],
 "metadata": {
  "kernelspec": {
   "display_name": "Python 3",
   "language": "python",
   "name": "python3"
  },
  "language_info": {
   "codemirror_mode": {
    "name": "ipython",
    "version": 3
   },
   "file_extension": ".py",
   "mimetype": "text/x-python",
   "name": "python",
   "nbconvert_exporter": "python",
   "pygments_lexer": "ipython3",
   "version": "3.7.3"
  }
 },
 "nbformat": 4,
 "nbformat_minor": 2
}
